{
 "cells": [
  {
   "cell_type": "code",
   "id": "initial_id",
   "metadata": {
    "collapsed": true,
    "ExecuteTime": {
     "end_time": "2025-10-16T01:04:19.310942Z",
     "start_time": "2025-10-16T01:04:16.063224Z"
    }
   },
   "source": [
    "import tensorflow as tf\n",
    "from tensorflow.keras import layers, models\n",
    "import numpy as np\n",
    "import os"
   ],
   "outputs": [],
   "execution_count": 1
  },
  {
   "metadata": {
    "ExecuteTime": {
     "end_time": "2025-10-16T01:04:25.920804Z",
     "start_time": "2025-10-16T01:04:25.917937Z"
    }
   },
   "cell_type": "code",
   "source": [
    "DATA_DIR = './cifar10_data'\n",
    "os.makedirs(DATA_DIR, exist_ok=True)"
   ],
   "id": "4a4da847ff23b5e6",
   "outputs": [],
   "execution_count": 2
  },
  {
   "metadata": {
    "ExecuteTime": {
     "end_time": "2025-10-16T01:04:31.597105Z",
     "start_time": "2025-10-16T01:04:31.332005Z"
    }
   },
   "cell_type": "code",
   "source": "(x_train, y_train), (x_test, y_test) = tf.keras.datasets.cifar10.load_data()",
   "id": "903b7b3941ae8a5a",
   "outputs": [],
   "execution_count": 3
  },
  {
   "metadata": {
    "ExecuteTime": {
     "end_time": "2025-10-16T01:04:37.428733Z",
     "start_time": "2025-10-16T01:04:37.426442Z"
    }
   },
   "cell_type": "code",
   "source": [
    "class_names = ['airplane','automobile','bird','cat','deer',\n",
    "               'dog','frog','horse','ship','truck']"
   ],
   "id": "2051116f9b60e6ed",
   "outputs": [],
   "execution_count": 4
  },
  {
   "metadata": {
    "ExecuteTime": {
     "end_time": "2025-10-16T01:04:41.177362Z",
     "start_time": "2025-10-16T01:04:41.175082Z"
    }
   },
   "cell_type": "code",
   "source": [
    "selected_classes = ['cat','dog','horse']\n",
    "selected_idx = [class_names.index(c) for c in selected_classes]"
   ],
   "id": "ff8f53b1754adcdd",
   "outputs": [],
   "execution_count": 5
  },
  {
   "metadata": {
    "ExecuteTime": {
     "end_time": "2025-10-16T01:04:45.301145Z",
     "start_time": "2025-10-16T01:04:45.297588Z"
    }
   },
   "cell_type": "code",
   "source": [
    "train_mask = np.isin(y_train, selected_idx).flatten()\n",
    "test_mask = np.isin(y_test, selected_idx).flatten()"
   ],
   "id": "5682d9fc49b5df20",
   "outputs": [],
   "execution_count": 6
  },
  {
   "metadata": {
    "ExecuteTime": {
     "end_time": "2025-10-16T01:04:49.163769Z",
     "start_time": "2025-10-16T01:04:49.127625Z"
    }
   },
   "cell_type": "code",
   "source": [
    "x_train, y_train = x_train[train_mask], y_train[train_mask]\n",
    "x_test, y_test = x_test[test_mask], y_test[test_mask]"
   ],
   "id": "2f5cd38beffafbfc",
   "outputs": [],
   "execution_count": 7
  },
  {
   "metadata": {
    "ExecuteTime": {
     "end_time": "2025-10-16T01:04:54.649037Z",
     "start_time": "2025-10-16T01:04:54.643308Z"
    }
   },
   "cell_type": "code",
   "source": [
    "label_map = {v: i for i, v in enumerate(selected_idx)}\n",
    "y_train = np.array([label_map[int(y)] for y in y_train])\n",
    "y_test = np.array([label_map[int(y)] for y in y_test])"
   ],
   "id": "c6c133142c3ab30",
   "outputs": [],
   "execution_count": 8
  },
  {
   "metadata": {
    "ExecuteTime": {
     "end_time": "2025-10-16T01:04:58.320181Z",
     "start_time": "2025-10-16T01:04:58.217385Z"
    }
   },
   "cell_type": "code",
   "source": "x_train, x_test = x_train / 255.0, x_test / 255.0",
   "id": "7e09e1c405c8fb29",
   "outputs": [],
   "execution_count": 9
  },
  {
   "metadata": {
    "ExecuteTime": {
     "end_time": "2025-10-16T01:05:02.886642Z",
     "start_time": "2025-10-16T01:05:01.981304Z"
    }
   },
   "cell_type": "code",
   "source": [
    "model = models.Sequential([\n",
    "    layers.Conv2D(32, (3,3), activation='relu', input_shape=(32,32,3)),\n",
    "    layers.MaxPooling2D((2,2)),\n",
    "    layers.Conv2D(64, (3,3), activation='relu'),\n",
    "    layers.MaxPooling2D((2,2)),\n",
    "    layers.Conv2D(128, (3,3), activation='relu'),\n",
    "    layers.Flatten(),\n",
    "    layers.Dense(128, activation='relu'),\n",
    "    layers.Dense(3, activation='softmax')\n",
    "])"
   ],
   "id": "945eb6af84a21d16",
   "outputs": [
    {
     "name": "stderr",
     "output_type": "stream",
     "text": [
      "2025-10-16 10:05:01.996404: I metal_plugin/src/device/metal_device.cc:1154] Metal device set to: Apple M3 Pro\n",
      "2025-10-16 10:05:01.996469: I metal_plugin/src/device/metal_device.cc:296] systemMemory: 18.00 GB\n",
      "2025-10-16 10:05:01.996483: I metal_plugin/src/device/metal_device.cc:313] maxCacheSize: 6.66 GB\n",
      "2025-10-16 10:05:01.996522: I tensorflow/core/common_runtime/pluggable_device/pluggable_device_factory.cc:303] Could not identify NUMA node of platform GPU ID 0, defaulting to 0. Your kernel may not have been built with NUMA support.\n",
      "2025-10-16 10:05:01.996548: I tensorflow/core/common_runtime/pluggable_device/pluggable_device_factory.cc:269] Created TensorFlow device (/job:localhost/replica:0/task:0/device:GPU:0 with 0 MB memory) -> physical PluggableDevice (device: 0, name: METAL, pci bus id: <undefined>)\n"
     ]
    }
   ],
   "execution_count": 10
  },
  {
   "metadata": {
    "ExecuteTime": {
     "end_time": "2025-10-16T01:05:05.916719Z",
     "start_time": "2025-10-16T01:05:05.817291Z"
    }
   },
   "cell_type": "code",
   "source": [
    "model.compile(optimizer='adam',\n",
    "              loss='sparse_categorical_crossentropy',\n",
    "              metrics=['accuracy'])"
   ],
   "id": "590f7733119f068a",
   "outputs": [],
   "execution_count": 11
  },
  {
   "metadata": {
    "ExecuteTime": {
     "end_time": "2025-10-16T01:05:48.639654Z",
     "start_time": "2025-10-16T01:05:10.106533Z"
    }
   },
   "cell_type": "code",
   "source": "model.fit(x_train, y_train, epochs=15, batch_size=64, validation_split=0.2)",
   "id": "38c09320a2cac0d3",
   "outputs": [
    {
     "name": "stdout",
     "output_type": "stream",
     "text": [
      "Epoch 1/15\n"
     ]
    },
    {
     "name": "stderr",
     "output_type": "stream",
     "text": [
      "2025-10-16 10:05:10.733284: I tensorflow/core/grappler/optimizers/custom_graph_optimizer_registry.cc:114] Plugin optimizer for device_type GPU is enabled.\n"
     ]
    },
    {
     "name": "stdout",
     "output_type": "stream",
     "text": [
      "188/188 [==============================] - ETA: 0s - loss: 0.9427 - accuracy: 0.5158"
     ]
    },
    {
     "name": "stderr",
     "output_type": "stream",
     "text": [
      "2025-10-16 10:05:17.029769: I tensorflow/core/grappler/optimizers/custom_graph_optimizer_registry.cc:114] Plugin optimizer for device_type GPU is enabled.\n"
     ]
    },
    {
     "name": "stdout",
     "output_type": "stream",
     "text": [
      "188/188 [==============================] - 7s 15ms/step - loss: 0.9427 - accuracy: 0.5158 - val_loss: 0.8527 - val_accuracy: 0.5990\n",
      "Epoch 2/15\n",
      "188/188 [==============================] - 2s 12ms/step - loss: 0.7824 - accuracy: 0.6291 - val_loss: 0.7357 - val_accuracy: 0.6757\n",
      "Epoch 3/15\n",
      "188/188 [==============================] - 2s 13ms/step - loss: 0.7004 - accuracy: 0.6805 - val_loss: 0.7232 - val_accuracy: 0.6687\n",
      "Epoch 4/15\n",
      "188/188 [==============================] - 2s 12ms/step - loss: 0.6312 - accuracy: 0.7203 - val_loss: 0.6721 - val_accuracy: 0.7027\n",
      "Epoch 5/15\n",
      "188/188 [==============================] - 2s 11ms/step - loss: 0.5820 - accuracy: 0.7448 - val_loss: 0.6403 - val_accuracy: 0.7227\n",
      "Epoch 6/15\n",
      "188/188 [==============================] - 2s 11ms/step - loss: 0.5430 - accuracy: 0.7646 - val_loss: 0.6018 - val_accuracy: 0.7433\n",
      "Epoch 7/15\n",
      "188/188 [==============================] - 2s 12ms/step - loss: 0.4924 - accuracy: 0.7893 - val_loss: 0.6162 - val_accuracy: 0.7417\n",
      "Epoch 8/15\n",
      "188/188 [==============================] - 2s 12ms/step - loss: 0.4480 - accuracy: 0.8094 - val_loss: 0.6646 - val_accuracy: 0.7257\n",
      "Epoch 9/15\n",
      "188/188 [==============================] - 2s 12ms/step - loss: 0.4116 - accuracy: 0.8263 - val_loss: 0.6488 - val_accuracy: 0.7423\n",
      "Epoch 10/15\n",
      "188/188 [==============================] - 2s 12ms/step - loss: 0.3551 - accuracy: 0.8601 - val_loss: 0.6578 - val_accuracy: 0.7450\n",
      "Epoch 11/15\n",
      "188/188 [==============================] - 2s 12ms/step - loss: 0.3292 - accuracy: 0.8660 - val_loss: 0.6933 - val_accuracy: 0.7417\n",
      "Epoch 12/15\n",
      "188/188 [==============================] - 2s 12ms/step - loss: 0.2708 - accuracy: 0.8932 - val_loss: 0.8709 - val_accuracy: 0.7293\n",
      "Epoch 13/15\n",
      "188/188 [==============================] - 2s 12ms/step - loss: 0.2441 - accuracy: 0.9038 - val_loss: 0.7688 - val_accuracy: 0.7447\n",
      "Epoch 14/15\n",
      "188/188 [==============================] - 2s 12ms/step - loss: 0.2108 - accuracy: 0.9207 - val_loss: 0.9006 - val_accuracy: 0.7270\n",
      "Epoch 15/15\n",
      "188/188 [==============================] - 2s 12ms/step - loss: 0.1834 - accuracy: 0.9312 - val_loss: 0.9735 - val_accuracy: 0.7313\n"
     ]
    },
    {
     "data": {
      "text/plain": [
       "<keras.src.callbacks.History at 0x15955fd00>"
      ]
     },
     "execution_count": 12,
     "metadata": {},
     "output_type": "execute_result"
    }
   ],
   "execution_count": 12
  },
  {
   "metadata": {
    "ExecuteTime": {
     "end_time": "2025-10-16T01:05:49.401790Z",
     "start_time": "2025-10-16T01:05:48.709488Z"
    }
   },
   "cell_type": "code",
   "source": [
    "test_loss, test_acc = model.evaluate(x_test, y_test)\n",
    "print(f\"CIFAR-10(개/고양이/말) 테스트 정확도: {test_acc:.4f}\")"
   ],
   "id": "c7ed1eaba0165cbc",
   "outputs": [
    {
     "name": "stdout",
     "output_type": "stream",
     "text": [
      "94/94 [==============================] - 1s 6ms/step - loss: 0.9575 - accuracy: 0.7420\n",
      "CIFAR-10(개/고양이/말) 테스트 정확도: 0.7420\n"
     ]
    }
   ],
   "execution_count": 13
  },
  {
   "metadata": {},
   "cell_type": "code",
   "outputs": [],
   "execution_count": null,
   "source": "",
   "id": "defb806d50b2dd4d"
  }
 ],
 "metadata": {
  "kernelspec": {
   "display_name": "Python 3",
   "language": "python",
   "name": "python3"
  },
  "language_info": {
   "codemirror_mode": {
    "name": "ipython",
    "version": 2
   },
   "file_extension": ".py",
   "mimetype": "text/x-python",
   "name": "python",
   "nbconvert_exporter": "python",
   "pygments_lexer": "ipython2",
   "version": "2.7.6"
  }
 },
 "nbformat": 4,
 "nbformat_minor": 5
}
