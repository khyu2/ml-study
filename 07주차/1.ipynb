{
 "cells": [
  {
   "cell_type": "code",
   "id": "initial_id",
   "metadata": {
    "collapsed": true,
    "ExecuteTime": {
     "end_time": "2025-10-16T01:00:51.263107Z",
     "start_time": "2025-10-16T01:00:51.259908Z"
    }
   },
   "source": [
    "import tensorflow as tf\n",
    "from tensorflow.keras import layers, models"
   ],
   "outputs": [],
   "execution_count": 17
  },
  {
   "metadata": {
    "ExecuteTime": {
     "end_time": "2025-10-16T01:01:21.949989Z",
     "start_time": "2025-10-16T01:01:19.313516Z"
    }
   },
   "cell_type": "code",
   "source": "(x_train, y_train), (x_test, y_test) = tf.keras.datasets.fashion_mnist.load_data()",
   "id": "411e46716c5cc1f9",
   "outputs": [
    {
     "name": "stdout",
     "output_type": "stream",
     "text": [
      "Downloading data from https://storage.googleapis.com/tensorflow/tf-keras-datasets/train-labels-idx1-ubyte.gz\n",
      "29515/29515 [==============================] - 0s 0us/step\n",
      "Downloading data from https://storage.googleapis.com/tensorflow/tf-keras-datasets/train-images-idx3-ubyte.gz\n",
      "26421880/26421880 [==============================] - 1s 0us/step\n",
      "Downloading data from https://storage.googleapis.com/tensorflow/tf-keras-datasets/t10k-labels-idx1-ubyte.gz\n",
      "5148/5148 [==============================] - 0s 0us/step\n",
      "Downloading data from https://storage.googleapis.com/tensorflow/tf-keras-datasets/t10k-images-idx3-ubyte.gz\n",
      "4422102/4422102 [==============================] - 0s 0us/step\n"
     ]
    }
   ],
   "execution_count": 18
  },
  {
   "metadata": {
    "ExecuteTime": {
     "end_time": "2025-10-16T01:01:35.027041Z",
     "start_time": "2025-10-16T01:01:34.945714Z"
    }
   },
   "cell_type": "code",
   "source": "x_train, x_test = x_train / 255.0, x_test / 255.0",
   "id": "33b2a0521d6d850a",
   "outputs": [],
   "execution_count": 19
  },
  {
   "metadata": {
    "ExecuteTime": {
     "end_time": "2025-10-16T01:02:02.257085Z",
     "start_time": "2025-10-16T01:02:02.254837Z"
    }
   },
   "cell_type": "code",
   "source": [
    "x_train = x_train.reshape(-1, 28 * 28)\n",
    "x_test = x_test.reshape(-1, 28 * 28)"
   ],
   "id": "f961b39ed82c8b3",
   "outputs": [],
   "execution_count": 20
  },
  {
   "metadata": {
    "ExecuteTime": {
     "end_time": "2025-10-16T01:02:24.319092Z",
     "start_time": "2025-10-16T01:02:24.073832Z"
    }
   },
   "cell_type": "code",
   "source": [
    "model = models.Sequential([\n",
    "    layers.Dense(256, activation='relu', input_shape=(784,)),\n",
    "    layers.Dense(128, activation='relu'),\n",
    "    layers.Dense(64, activation='relu'),\n",
    "    layers.Dense(10, activation='softmax')\n",
    "])"
   ],
   "id": "38fb0f7b1c2642ec",
   "outputs": [
    {
     "name": "stderr",
     "output_type": "stream",
     "text": [
      "2025-10-16 10:02:24.092910: I metal_plugin/src/device/metal_device.cc:1154] Metal device set to: Apple M3 Pro\n",
      "2025-10-16 10:02:24.093105: I metal_plugin/src/device/metal_device.cc:296] systemMemory: 18.00 GB\n",
      "2025-10-16 10:02:24.093133: I metal_plugin/src/device/metal_device.cc:313] maxCacheSize: 6.66 GB\n",
      "2025-10-16 10:02:24.093222: I tensorflow/core/common_runtime/pluggable_device/pluggable_device_factory.cc:303] Could not identify NUMA node of platform GPU ID 0, defaulting to 0. Your kernel may not have been built with NUMA support.\n",
      "2025-10-16 10:02:24.093274: I tensorflow/core/common_runtime/pluggable_device/pluggable_device_factory.cc:269] Created TensorFlow device (/job:localhost/replica:0/task:0/device:GPU:0 with 0 MB memory) -> physical PluggableDevice (device: 0, name: METAL, pci bus id: <undefined>)\n"
     ]
    }
   ],
   "execution_count": 21
  },
  {
   "metadata": {
    "ExecuteTime": {
     "end_time": "2025-10-16T01:02:30.524798Z",
     "start_time": "2025-10-16T01:02:30.505566Z"
    }
   },
   "cell_type": "code",
   "source": [
    "model.compile(optimizer='adam',\n",
    "              loss='sparse_categorical_crossentropy',\n",
    "              metrics=['accuracy'])"
   ],
   "id": "755c1ffa7f465407",
   "outputs": [],
   "execution_count": 22
  },
  {
   "metadata": {
    "ExecuteTime": {
     "end_time": "2025-10-16T01:03:12.665853Z",
     "start_time": "2025-10-16T01:02:35.735365Z"
    }
   },
   "cell_type": "code",
   "source": "model.fit(x_train, y_train, epochs=10, batch_size=64, validation_split=0.2)",
   "id": "7e33a155eca82ef4",
   "outputs": [
    {
     "name": "stdout",
     "output_type": "stream",
     "text": [
      "Epoch 1/10\n"
     ]
    },
    {
     "name": "stderr",
     "output_type": "stream",
     "text": [
      "2025-10-16 10:02:36.154736: I tensorflow/core/grappler/optimizers/custom_graph_optimizer_registry.cc:114] Plugin optimizer for device_type GPU is enabled.\n"
     ]
    },
    {
     "name": "stdout",
     "output_type": "stream",
     "text": [
      "746/750 [============================>.] - ETA: 0s - loss: 0.7613 - accuracy: 0.7576"
     ]
    },
    {
     "name": "stderr",
     "output_type": "stream",
     "text": [
      "2025-10-16 10:02:40.387080: I tensorflow/core/grappler/optimizers/custom_graph_optimizer_registry.cc:114] Plugin optimizer for device_type GPU is enabled.\n"
     ]
    },
    {
     "name": "stdout",
     "output_type": "stream",
     "text": [
      "750/750 [==============================] - 5s 5ms/step - loss: 0.7629 - accuracy: 0.7575 - val_loss: 1.1984 - val_accuracy: 0.6842\n",
      "Epoch 2/10\n",
      "750/750 [==============================] - 3s 4ms/step - loss: 4.9492 - accuracy: 0.7003 - val_loss: 12.7686 - val_accuracy: 0.7375\n",
      "Epoch 3/10\n",
      "750/750 [==============================] - 3s 4ms/step - loss: 48.3766 - accuracy: 0.6176 - val_loss: 86.8109 - val_accuracy: 0.6263\n",
      "Epoch 4/10\n",
      "750/750 [==============================] - 4s 5ms/step - loss: 180.6959 - accuracy: 0.5686 - val_loss: 295.2672 - val_accuracy: 0.5346\n",
      "Epoch 5/10\n",
      "750/750 [==============================] - 3s 5ms/step - loss: 384.1839 - accuracy: 0.5532 - val_loss: 489.8072 - val_accuracy: 0.5363\n",
      "Epoch 6/10\n",
      "750/750 [==============================] - 3s 4ms/step - loss: 664.2247 - accuracy: 0.5395 - val_loss: 932.8707 - val_accuracy: 0.5263\n",
      "Epoch 7/10\n",
      "750/750 [==============================] - 4s 5ms/step - loss: 1172.5347 - accuracy: 0.5270 - val_loss: 1002.0333 - val_accuracy: 0.5911\n",
      "Epoch 8/10\n",
      "750/750 [==============================] - 4s 5ms/step - loss: 1687.3440 - accuracy: 0.5239 - val_loss: 1569.9684 - val_accuracy: 0.5263\n",
      "Epoch 9/10\n",
      "750/750 [==============================] - 4s 5ms/step - loss: 2321.2673 - accuracy: 0.5180 - val_loss: 2578.1682 - val_accuracy: 0.5215\n",
      "Epoch 10/10\n",
      "750/750 [==============================] - 4s 5ms/step - loss: 3293.3010 - accuracy: 0.5081 - val_loss: 4496.1309 - val_accuracy: 0.4375\n"
     ]
    },
    {
     "data": {
      "text/plain": [
       "<keras.src.callbacks.History at 0x32ee01120>"
      ]
     },
     "execution_count": 23,
     "metadata": {},
     "output_type": "execute_result"
    }
   ],
   "execution_count": 23
  },
  {
   "metadata": {
    "ExecuteTime": {
     "end_time": "2025-10-16T01:03:13.788154Z",
     "start_time": "2025-10-16T01:03:12.732429Z"
    }
   },
   "cell_type": "code",
   "source": [
    "test_loss, test_acc = model.evaluate(x_test, y_test)\n",
    "print(f\"DNN 테스트 정확도: {test_acc:.4f}\")"
   ],
   "id": "8f034dca3afb2a2f",
   "outputs": [
    {
     "name": "stdout",
     "output_type": "stream",
     "text": [
      "313/313 [==============================] - 1s 3ms/step - loss: 4606.7266 - accuracy: 0.4301\n",
      "DNN 테스트 정확도: 0.4301\n"
     ]
    }
   ],
   "execution_count": 24
  },
  {
   "metadata": {},
   "cell_type": "code",
   "outputs": [],
   "execution_count": null,
   "source": "",
   "id": "3a6e4df4ecf1fa7e"
  }
 ],
 "metadata": {
  "kernelspec": {
   "display_name": "Python 3",
   "language": "python",
   "name": "python3"
  },
  "language_info": {
   "codemirror_mode": {
    "name": "ipython",
    "version": 2
   },
   "file_extension": ".py",
   "mimetype": "text/x-python",
   "name": "python",
   "nbconvert_exporter": "python",
   "pygments_lexer": "ipython2",
   "version": "2.7.6"
  }
 },
 "nbformat": 4,
 "nbformat_minor": 5
}
