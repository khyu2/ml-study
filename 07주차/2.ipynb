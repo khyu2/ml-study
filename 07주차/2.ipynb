{
 "cells": [
  {
   "cell_type": "code",
   "id": "initial_id",
   "metadata": {
    "collapsed": true,
    "ExecuteTime": {
     "end_time": "2025-10-16T01:03:37.623821Z",
     "start_time": "2025-10-16T01:03:34.212001Z"
    }
   },
   "source": [
    "import tensorflow as tf\n",
    "from tensorflow.keras import layers, models"
   ],
   "outputs": [],
   "execution_count": 1
  },
  {
   "metadata": {
    "ExecuteTime": {
     "end_time": "2025-10-16T01:03:39.502375Z",
     "start_time": "2025-10-16T01:03:39.250935Z"
    }
   },
   "cell_type": "code",
   "source": "(x_train, y_train), (x_test, y_test) = tf.keras.datasets.fashion_mnist.load_data()",
   "id": "2ffaedb1709441d2",
   "outputs": [],
   "execution_count": 2
  },
  {
   "metadata": {
    "ExecuteTime": {
     "end_time": "2025-10-16T01:03:45.005350Z",
     "start_time": "2025-10-16T01:03:44.915457Z"
    }
   },
   "cell_type": "code",
   "source": [
    "x_train = x_train.reshape(-1, 28, 28, 1) / 255.0\n",
    "x_test = x_test.reshape(-1, 28, 28, 1) / 255.0"
   ],
   "id": "11fa4471a2dfc3c4",
   "outputs": [],
   "execution_count": 3
  },
  {
   "metadata": {
    "ExecuteTime": {
     "end_time": "2025-10-16T01:03:49.582088Z",
     "start_time": "2025-10-16T01:03:48.923799Z"
    }
   },
   "cell_type": "code",
   "source": [
    "model = models.Sequential([\n",
    "    layers.Conv2D(32, (3,3), activation='relu', input_shape=(28,28,1)),\n",
    "    layers.MaxPooling2D((2,2)),\n",
    "    layers.Conv2D(64, (3,3), activation='relu'),\n",
    "    layers.MaxPooling2D((2,2)),\n",
    "    layers.Flatten(),\n",
    "    layers.Dense(128, activation='relu'),\n",
    "    layers.Dense(10, activation='softmax')\n",
    "])"
   ],
   "id": "25e4d33388624d97",
   "outputs": [
    {
     "name": "stderr",
     "output_type": "stream",
     "text": [
      "2025-10-16 10:03:48.937233: I metal_plugin/src/device/metal_device.cc:1154] Metal device set to: Apple M3 Pro\n",
      "2025-10-16 10:03:48.937272: I metal_plugin/src/device/metal_device.cc:296] systemMemory: 18.00 GB\n",
      "2025-10-16 10:03:48.937281: I metal_plugin/src/device/metal_device.cc:313] maxCacheSize: 6.66 GB\n",
      "2025-10-16 10:03:48.937330: I tensorflow/core/common_runtime/pluggable_device/pluggable_device_factory.cc:303] Could not identify NUMA node of platform GPU ID 0, defaulting to 0. Your kernel may not have been built with NUMA support.\n",
      "2025-10-16 10:03:48.937349: I tensorflow/core/common_runtime/pluggable_device/pluggable_device_factory.cc:269] Created TensorFlow device (/job:localhost/replica:0/task:0/device:GPU:0 with 0 MB memory) -> physical PluggableDevice (device: 0, name: METAL, pci bus id: <undefined>)\n"
     ]
    }
   ],
   "execution_count": 4
  },
  {
   "metadata": {
    "ExecuteTime": {
     "end_time": "2025-10-16T01:03:53.478880Z",
     "start_time": "2025-10-16T01:03:53.461367Z"
    }
   },
   "cell_type": "code",
   "source": [
    "model.compile(optimizer='adam',\n",
    "              loss='sparse_categorical_crossentropy',\n",
    "              metrics=['accuracy'])"
   ],
   "id": "49b9434cace7b892",
   "outputs": [],
   "execution_count": 5
  },
  {
   "metadata": {
    "ExecuteTime": {
     "end_time": "2025-10-16T01:05:06.346374Z",
     "start_time": "2025-10-16T01:03:58.179766Z"
    }
   },
   "cell_type": "code",
   "source": "model.fit(x_train, y_train, epochs=10, batch_size=64, validation_split=0.2)",
   "id": "cc21cba18e263346",
   "outputs": [
    {
     "name": "stdout",
     "output_type": "stream",
     "text": [
      "Epoch 1/10\n"
     ]
    },
    {
     "name": "stderr",
     "output_type": "stream",
     "text": [
      "2025-10-16 10:03:58.785450: I tensorflow/core/grappler/optimizers/custom_graph_optimizer_registry.cc:114] Plugin optimizer for device_type GPU is enabled.\n"
     ]
    },
    {
     "name": "stdout",
     "output_type": "stream",
     "text": [
      "747/750 [============================>.] - ETA: 0s - loss: 0.5100 - accuracy: 0.8162"
     ]
    },
    {
     "name": "stderr",
     "output_type": "stream",
     "text": [
      "2025-10-16 10:04:07.383555: I tensorflow/core/grappler/optimizers/custom_graph_optimizer_registry.cc:114] Plugin optimizer for device_type GPU is enabled.\n"
     ]
    },
    {
     "name": "stdout",
     "output_type": "stream",
     "text": [
      "750/750 [==============================] - 10s 9ms/step - loss: 0.5095 - accuracy: 0.8163 - val_loss: 0.3800 - val_accuracy: 0.8654\n",
      "Epoch 2/10\n",
      "750/750 [==============================] - 6s 8ms/step - loss: 0.3456 - accuracy: 0.8772 - val_loss: 0.3232 - val_accuracy: 0.8852\n",
      "Epoch 3/10\n",
      "750/750 [==============================] - 6s 8ms/step - loss: 0.3076 - accuracy: 0.8895 - val_loss: 0.3112 - val_accuracy: 0.8910\n",
      "Epoch 4/10\n",
      "750/750 [==============================] - 6s 8ms/step - loss: 0.2873 - accuracy: 0.8975 - val_loss: 0.3165 - val_accuracy: 0.8905\n",
      "Epoch 5/10\n",
      "750/750 [==============================] - 6s 8ms/step - loss: 0.2725 - accuracy: 0.9042 - val_loss: 0.3155 - val_accuracy: 0.8921\n",
      "Epoch 6/10\n",
      "750/750 [==============================] - 7s 9ms/step - loss: 0.2726 - accuracy: 0.9040 - val_loss: 0.3123 - val_accuracy: 0.8959\n",
      "Epoch 7/10\n",
      "750/750 [==============================] - 6s 9ms/step - loss: 0.2798 - accuracy: 0.9036 - val_loss: 0.3391 - val_accuracy: 0.8918\n",
      "Epoch 8/10\n",
      "750/750 [==============================] - 6s 9ms/step - loss: 0.2961 - accuracy: 0.9030 - val_loss: 0.4217 - val_accuracy: 0.8763\n",
      "Epoch 9/10\n",
      "750/750 [==============================] - 7s 9ms/step - loss: 0.3334 - accuracy: 0.8999 - val_loss: 0.4015 - val_accuracy: 0.8935\n",
      "Epoch 10/10\n",
      "750/750 [==============================] - 7s 9ms/step - loss: 0.3853 - accuracy: 0.8976 - val_loss: 0.5326 - val_accuracy: 0.8895\n"
     ]
    },
    {
     "data": {
      "text/plain": [
       "<keras.src.callbacks.History at 0x1629a8b80>"
      ]
     },
     "execution_count": 6,
     "metadata": {},
     "output_type": "execute_result"
    }
   ],
   "execution_count": 6
  },
  {
   "metadata": {
    "ExecuteTime": {
     "end_time": "2025-10-16T01:05:07.867608Z",
     "start_time": "2025-10-16T01:05:06.352419Z"
    }
   },
   "cell_type": "code",
   "source": [
    "test_loss, test_acc = model.evaluate(x_test, y_test)\n",
    "print(f\"CNN 테스트 정확도: {test_acc:.4f}\")"
   ],
   "id": "209735db0e9656b6",
   "outputs": [
    {
     "name": "stdout",
     "output_type": "stream",
     "text": [
      "313/313 [==============================] - 1s 5ms/step - loss: 0.5924 - accuracy: 0.8788\n",
      "CNN 테스트 정확도: 0.8788\n"
     ]
    }
   ],
   "execution_count": 7
  },
  {
   "metadata": {},
   "cell_type": "code",
   "outputs": [],
   "execution_count": null,
   "source": "",
   "id": "c58d685de58b4999"
  }
 ],
 "metadata": {
  "kernelspec": {
   "display_name": "Python 3",
   "language": "python",
   "name": "python3"
  },
  "language_info": {
   "codemirror_mode": {
    "name": "ipython",
    "version": 2
   },
   "file_extension": ".py",
   "mimetype": "text/x-python",
   "name": "python",
   "nbconvert_exporter": "python",
   "pygments_lexer": "ipython2",
   "version": "2.7.6"
  }
 },
 "nbformat": 4,
 "nbformat_minor": 5
}
