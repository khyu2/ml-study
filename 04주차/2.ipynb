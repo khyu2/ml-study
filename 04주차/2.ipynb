{
 "cells": [
  {
   "cell_type": "code",
   "id": "initial_id",
   "metadata": {
    "collapsed": true,
    "ExecuteTime": {
     "end_time": "2025-09-25T12:58:44.011276Z",
     "start_time": "2025-09-25T12:58:33.187869Z"
    }
   },
   "source": [
    "import pandas as pd\n",
    "import numpy as np\n",
    "from sklearn.model_selection import train_test_split\n",
    "from sklearn.preprocessing import StandardScaler\n",
    "from tensorflow.keras.models import Sequential\n",
    "from tensorflow.keras.layers import Dense\n",
    "from tensorflow.keras.utils import to_categorical"
   ],
   "outputs": [],
   "execution_count": 1
  },
  {
   "metadata": {
    "ExecuteTime": {
     "end_time": "2025-09-25T12:59:03.668214Z",
     "start_time": "2025-09-25T12:59:03.663189Z"
    }
   },
   "cell_type": "code",
   "source": "df = pd.read_csv(\"winequality-white.csv\", sep=';')",
   "id": "29ab2f043fa11bfc",
   "outputs": [],
   "execution_count": 4
  },
  {
   "metadata": {
    "ExecuteTime": {
     "end_time": "2025-09-25T12:59:04.460905Z",
     "start_time": "2025-09-25T12:59:04.458321Z"
    }
   },
   "cell_type": "code",
   "source": [
    "X = df.drop(\"quality\", axis=1).values\n",
    "y = df[\"quality\"].values"
   ],
   "id": "9b0aeafd095cd641",
   "outputs": [],
   "execution_count": 5
  },
  {
   "metadata": {
    "ExecuteTime": {
     "end_time": "2025-09-25T12:59:05.743770Z",
     "start_time": "2025-09-25T12:59:05.740973Z"
    }
   },
   "cell_type": "code",
   "source": [
    "# 클래스 개수 확인\n",
    "num_classes = len(np.unique(y))\n",
    "y_categorical = to_categorical(y - y.min())"
   ],
   "id": "2e886756138bcf85",
   "outputs": [],
   "execution_count": 6
  },
  {
   "metadata": {
    "ExecuteTime": {
     "end_time": "2025-09-25T12:59:12.295287Z",
     "start_time": "2025-09-25T12:59:12.291311Z"
    }
   },
   "cell_type": "code",
   "source": [
    "X_train, X_test, y_train, y_test = train_test_split(\n",
    "    X, y_categorical, test_size=0.2, random_state=42, stratify=y\n",
    ")"
   ],
   "id": "8b2976f86ebb1e2b",
   "outputs": [],
   "execution_count": 7
  },
  {
   "metadata": {
    "ExecuteTime": {
     "end_time": "2025-09-25T12:59:18.162896Z",
     "start_time": "2025-09-25T12:59:18.159817Z"
    }
   },
   "cell_type": "code",
   "source": [
    "# 스케일링\n",
    "scaler = StandardScaler()\n",
    "X_train_scaled = scaler.fit_transform(X_train)\n",
    "X_test_scaled = scaler.transform(X_test)"
   ],
   "id": "e63f8a9ee7098fb5",
   "outputs": [],
   "execution_count": 8
  },
  {
   "metadata": {
    "ExecuteTime": {
     "end_time": "2025-09-25T12:59:23.858253Z",
     "start_time": "2025-09-25T12:59:23.290546Z"
    }
   },
   "cell_type": "code",
   "source": [
    "model = Sequential([\n",
    "    Dense(64, input_dim=X_train_scaled.shape[1], activation=\"relu\"),\n",
    "    Dense(32, activation=\"relu\"),\n",
    "    Dense(num_classes, activation=\"softmax\")\n",
    "])"
   ],
   "id": "8a269b648b7bdd36",
   "outputs": [
    {
     "name": "stderr",
     "output_type": "stream",
     "text": [
      "/Users/khyu2/miniconda3/envs/study/lib/python3.10/site-packages/keras/src/layers/core/dense.py:87: UserWarning: Do not pass an `input_shape`/`input_dim` argument to a layer. When using Sequential models, prefer using an `Input(shape)` object as the first layer in the model instead.\n",
      "  super().__init__(activity_regularizer=activity_regularizer, **kwargs)\n",
      "2025-09-25 21:59:23.296811: I metal_plugin/src/device/metal_device.cc:1154] Metal device set to: Apple M3 Pro\n",
      "2025-09-25 21:59:23.296855: I metal_plugin/src/device/metal_device.cc:296] systemMemory: 18.00 GB\n",
      "2025-09-25 21:59:23.296859: I metal_plugin/src/device/metal_device.cc:313] maxCacheSize: 6.66 GB\n",
      "2025-09-25 21:59:23.296900: I tensorflow/core/common_runtime/pluggable_device/pluggable_device_factory.cc:305] Could not identify NUMA node of platform GPU ID 0, defaulting to 0. Your kernel may not have been built with NUMA support.\n",
      "2025-09-25 21:59:23.296910: I tensorflow/core/common_runtime/pluggable_device/pluggable_device_factory.cc:271] Created TensorFlow device (/job:localhost/replica:0/task:0/device:GPU:0 with 0 MB memory) -> physical PluggableDevice (device: 0, name: METAL, pci bus id: <undefined>)\n"
     ]
    }
   ],
   "execution_count": 9
  },
  {
   "metadata": {
    "ExecuteTime": {
     "end_time": "2025-09-25T13:00:05.737216Z",
     "start_time": "2025-09-25T12:59:32.672788Z"
    }
   },
   "cell_type": "code",
   "source": [
    "model.compile(optimizer=\"adam\", loss=\"categorical_crossentropy\", metrics=[\"accuracy\"])\n",
    "history = model.fit(X_train_scaled, y_train, epochs=30, batch_size=32, validation_split=0.2, verbose=1)"
   ],
   "id": "75391cf20717fb38",
   "outputs": [
    {
     "name": "stdout",
     "output_type": "stream",
     "text": [
      "Epoch 1/30\n"
     ]
    },
    {
     "name": "stderr",
     "output_type": "stream",
     "text": [
      "2025-09-25 21:59:32.921373: I tensorflow/core/grappler/optimizers/custom_graph_optimizer_registry.cc:117] Plugin optimizer for device_type GPU is enabled.\n"
     ]
    },
    {
     "name": "stdout",
     "output_type": "stream",
     "text": [
      "\u001B[1m98/98\u001B[0m \u001B[32m━━━━━━━━━━━━━━━━━━━━\u001B[0m\u001B[37m\u001B[0m \u001B[1m4s\u001B[0m 15ms/step - accuracy: 0.2919 - loss: 1.8405 - val_accuracy: 0.5064 - val_loss: 1.4368\n",
      "Epoch 2/30\n",
      "\u001B[1m98/98\u001B[0m \u001B[32m━━━━━━━━━━━━━━━━━━━━\u001B[0m\u001B[37m\u001B[0m \u001B[1m1s\u001B[0m 12ms/step - accuracy: 0.5223 - loss: 1.3182 - val_accuracy: 0.5153 - val_loss: 1.2313\n",
      "Epoch 3/30\n",
      "\u001B[1m98/98\u001B[0m \u001B[32m━━━━━━━━━━━━━━━━━━━━\u001B[0m\u001B[37m\u001B[0m \u001B[1m1s\u001B[0m 11ms/step - accuracy: 0.5555 - loss: 1.1488 - val_accuracy: 0.5128 - val_loss: 1.1787\n",
      "Epoch 4/30\n",
      "\u001B[1m98/98\u001B[0m \u001B[32m━━━━━━━━━━━━━━━━━━━━\u001B[0m\u001B[37m\u001B[0m \u001B[1m1s\u001B[0m 10ms/step - accuracy: 0.5443 - loss: 1.1137 - val_accuracy: 0.5179 - val_loss: 1.1663\n",
      "Epoch 5/30\n",
      "\u001B[1m98/98\u001B[0m \u001B[32m━━━━━━━━━━━━━━━━━━━━\u001B[0m\u001B[37m\u001B[0m \u001B[1m1s\u001B[0m 10ms/step - accuracy: 0.5281 - loss: 1.1319 - val_accuracy: 0.5140 - val_loss: 1.1787\n",
      "Epoch 6/30\n",
      "\u001B[1m98/98\u001B[0m \u001B[32m━━━━━━━━━━━━━━━━━━━━\u001B[0m\u001B[37m\u001B[0m \u001B[1m1s\u001B[0m 10ms/step - accuracy: 0.5428 - loss: 1.0901 - val_accuracy: 0.5038 - val_loss: 1.1529\n",
      "Epoch 7/30\n",
      "\u001B[1m98/98\u001B[0m \u001B[32m━━━━━━━━━━━━━━━━━━━━\u001B[0m\u001B[37m\u001B[0m \u001B[1m1s\u001B[0m 10ms/step - accuracy: 0.5180 - loss: 1.1253 - val_accuracy: 0.5332 - val_loss: 1.1377\n",
      "Epoch 8/30\n",
      "\u001B[1m98/98\u001B[0m \u001B[32m━━━━━━━━━━━━━━━━━━━━\u001B[0m\u001B[37m\u001B[0m \u001B[1m1s\u001B[0m 10ms/step - accuracy: 0.5293 - loss: 1.1178 - val_accuracy: 0.5217 - val_loss: 1.1500\n",
      "Epoch 9/30\n",
      "\u001B[1m98/98\u001B[0m \u001B[32m━━━━━━━━━━━━━━━━━━━━\u001B[0m\u001B[37m\u001B[0m \u001B[1m1s\u001B[0m 10ms/step - accuracy: 0.5235 - loss: 1.1022 - val_accuracy: 0.5166 - val_loss: 1.1361\n",
      "Epoch 10/30\n",
      "\u001B[1m98/98\u001B[0m \u001B[32m━━━━━━━━━━━━━━━━━━━━\u001B[0m\u001B[37m\u001B[0m \u001B[1m1s\u001B[0m 10ms/step - accuracy: 0.5333 - loss: 1.1005 - val_accuracy: 0.4962 - val_loss: 1.1624\n",
      "Epoch 11/30\n",
      "\u001B[1m98/98\u001B[0m \u001B[32m━━━━━━━━━━━━━━━━━━━━\u001B[0m\u001B[37m\u001B[0m \u001B[1m1s\u001B[0m 10ms/step - accuracy: 0.5185 - loss: 1.1002 - val_accuracy: 0.5217 - val_loss: 1.1394\n",
      "Epoch 12/30\n",
      "\u001B[1m98/98\u001B[0m \u001B[32m━━━━━━━━━━━━━━━━━━━━\u001B[0m\u001B[37m\u001B[0m \u001B[1m1s\u001B[0m 10ms/step - accuracy: 0.5299 - loss: 1.1115 - val_accuracy: 0.5191 - val_loss: 1.1496\n",
      "Epoch 13/30\n",
      "\u001B[1m98/98\u001B[0m \u001B[32m━━━━━━━━━━━━━━━━━━━━\u001B[0m\u001B[37m\u001B[0m \u001B[1m1s\u001B[0m 10ms/step - accuracy: 0.5431 - loss: 1.1011 - val_accuracy: 0.5255 - val_loss: 1.1379\n",
      "Epoch 14/30\n",
      "\u001B[1m98/98\u001B[0m \u001B[32m━━━━━━━━━━━━━━━━━━━━\u001B[0m\u001B[37m\u001B[0m \u001B[1m1s\u001B[0m 10ms/step - accuracy: 0.5227 - loss: 1.1025 - val_accuracy: 0.4668 - val_loss: 1.1980\n",
      "Epoch 15/30\n",
      "\u001B[1m98/98\u001B[0m \u001B[32m━━━━━━━━━━━━━━━━━━━━\u001B[0m\u001B[37m\u001B[0m \u001B[1m1s\u001B[0m 10ms/step - accuracy: 0.5104 - loss: 1.0981 - val_accuracy: 0.5153 - val_loss: 1.1508\n",
      "Epoch 16/30\n",
      "\u001B[1m98/98\u001B[0m \u001B[32m━━━━━━━━━━━━━━━━━━━━\u001B[0m\u001B[37m\u001B[0m \u001B[1m1s\u001B[0m 10ms/step - accuracy: 0.5262 - loss: 1.0959 - val_accuracy: 0.4974 - val_loss: 1.1411\n",
      "Epoch 17/30\n",
      "\u001B[1m98/98\u001B[0m \u001B[32m━━━━━━━━━━━━━━━━━━━━\u001B[0m\u001B[37m\u001B[0m \u001B[1m1s\u001B[0m 12ms/step - accuracy: 0.5313 - loss: 1.0752 - val_accuracy: 0.4974 - val_loss: 1.1464\n",
      "Epoch 18/30\n",
      "\u001B[1m98/98\u001B[0m \u001B[32m━━━━━━━━━━━━━━━━━━━━\u001B[0m\u001B[37m\u001B[0m \u001B[1m1s\u001B[0m 10ms/step - accuracy: 0.5222 - loss: 1.1149 - val_accuracy: 0.5000 - val_loss: 1.1563\n",
      "Epoch 19/30\n",
      "\u001B[1m98/98\u001B[0m \u001B[32m━━━━━━━━━━━━━━━━━━━━\u001B[0m\u001B[37m\u001B[0m \u001B[1m1s\u001B[0m 10ms/step - accuracy: 0.5211 - loss: 1.1217 - val_accuracy: 0.5166 - val_loss: 1.1467\n",
      "Epoch 20/30\n",
      "\u001B[1m98/98\u001B[0m \u001B[32m━━━━━━━━━━━━━━━━━━━━\u001B[0m\u001B[37m\u001B[0m \u001B[1m1s\u001B[0m 10ms/step - accuracy: 0.5241 - loss: 1.0972 - val_accuracy: 0.5217 - val_loss: 1.1486\n",
      "Epoch 21/30\n",
      "\u001B[1m98/98\u001B[0m \u001B[32m━━━━━━━━━━━━━━━━━━━━\u001B[0m\u001B[37m\u001B[0m \u001B[1m1s\u001B[0m 10ms/step - accuracy: 0.5124 - loss: 1.1253 - val_accuracy: 0.5051 - val_loss: 1.1699\n",
      "Epoch 22/30\n",
      "\u001B[1m98/98\u001B[0m \u001B[32m━━━━━━━━━━━━━━━━━━━━\u001B[0m\u001B[37m\u001B[0m \u001B[1m1s\u001B[0m 10ms/step - accuracy: 0.5140 - loss: 1.1236 - val_accuracy: 0.5026 - val_loss: 1.1852\n",
      "Epoch 23/30\n",
      "\u001B[1m98/98\u001B[0m \u001B[32m━━━━━━━━━━━━━━━━━━━━\u001B[0m\u001B[37m\u001B[0m \u001B[1m1s\u001B[0m 10ms/step - accuracy: 0.5258 - loss: 1.1333 - val_accuracy: 0.5013 - val_loss: 1.2050\n",
      "Epoch 24/30\n",
      "\u001B[1m98/98\u001B[0m \u001B[32m━━━━━━━━━━━━━━━━━━━━\u001B[0m\u001B[37m\u001B[0m \u001B[1m1s\u001B[0m 10ms/step - accuracy: 0.5103 - loss: 1.1075 - val_accuracy: 0.4898 - val_loss: 1.2343\n",
      "Epoch 25/30\n",
      "\u001B[1m98/98\u001B[0m \u001B[32m━━━━━━━━━━━━━━━━━━━━\u001B[0m\u001B[37m\u001B[0m \u001B[1m1s\u001B[0m 10ms/step - accuracy: 0.5108 - loss: 1.1383 - val_accuracy: 0.5268 - val_loss: 1.1843\n",
      "Epoch 26/30\n",
      "\u001B[1m98/98\u001B[0m \u001B[32m━━━━━━━━━━━━━━━━━━━━\u001B[0m\u001B[37m\u001B[0m \u001B[1m1s\u001B[0m 10ms/step - accuracy: 0.4953 - loss: 1.1679 - val_accuracy: 0.4592 - val_loss: 1.1949\n",
      "Epoch 27/30\n",
      "\u001B[1m98/98\u001B[0m \u001B[32m━━━━━━━━━━━━━━━━━━━━\u001B[0m\u001B[37m\u001B[0m \u001B[1m1s\u001B[0m 10ms/step - accuracy: 0.5087 - loss: 1.1578 - val_accuracy: 0.4809 - val_loss: 1.2982\n",
      "Epoch 28/30\n",
      "\u001B[1m98/98\u001B[0m \u001B[32m━━━━━━━━━━━━━━━━━━━━\u001B[0m\u001B[37m\u001B[0m \u001B[1m1s\u001B[0m 10ms/step - accuracy: 0.5167 - loss: 1.1507 - val_accuracy: 0.5128 - val_loss: 1.1866\n",
      "Epoch 29/30\n",
      "\u001B[1m98/98\u001B[0m \u001B[32m━━━━━━━━━━━━━━━━━━━━\u001B[0m\u001B[37m\u001B[0m \u001B[1m1s\u001B[0m 10ms/step - accuracy: 0.5066 - loss: 1.1489 - val_accuracy: 0.5293 - val_loss: 1.1967\n",
      "Epoch 30/30\n",
      "\u001B[1m98/98\u001B[0m \u001B[32m━━━━━━━━━━━━━━━━━━━━\u001B[0m\u001B[37m\u001B[0m \u001B[1m1s\u001B[0m 10ms/step - accuracy: 0.5362 - loss: 1.1403 - val_accuracy: 0.5013 - val_loss: 1.2347\n"
     ]
    }
   ],
   "execution_count": 10
  },
  {
   "metadata": {
    "ExecuteTime": {
     "end_time": "2025-09-25T13:00:29.371468Z",
     "start_time": "2025-09-25T13:00:29.123135Z"
    }
   },
   "cell_type": "code",
   "source": [
    "loss, acc = model.evaluate(X_test_scaled, y_test, verbose=0)\n",
    "print(f\"Test Accuracy: {acc:.4f}\")"
   ],
   "id": "183190d9eae6dc55",
   "outputs": [
    {
     "name": "stdout",
     "output_type": "stream",
     "text": [
      "Test Accuracy: 0.4867\n"
     ]
    }
   ],
   "execution_count": 11
  },
  {
   "metadata": {},
   "cell_type": "code",
   "outputs": [],
   "execution_count": null,
   "source": "",
   "id": "de8eb1a695753aae"
  }
 ],
 "metadata": {
  "kernelspec": {
   "display_name": "Python 3",
   "language": "python",
   "name": "python3"
  },
  "language_info": {
   "codemirror_mode": {
    "name": "ipython",
    "version": 2
   },
   "file_extension": ".py",
   "mimetype": "text/x-python",
   "name": "python",
   "nbconvert_exporter": "python",
   "pygments_lexer": "ipython2",
   "version": "2.7.6"
  }
 },
 "nbformat": 4,
 "nbformat_minor": 5
}
