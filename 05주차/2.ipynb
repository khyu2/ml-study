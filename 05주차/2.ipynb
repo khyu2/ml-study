{
 "cells": [
  {
   "cell_type": "code",
   "id": "initial_id",
   "metadata": {
    "collapsed": true,
    "ExecuteTime": {
     "end_time": "2025-10-02T01:07:22.761923Z",
     "start_time": "2025-10-02T01:07:07.484464Z"
    }
   },
   "source": [
    "import matplotlib.pyplot as plt\n",
    "from sklearn import datasets, metrics\n",
    "from sklearn.model_selection import train_test_split\n",
    "from tensorflow.keras.models import Sequential\n",
    "from tensorflow.keras.layers import Dense, Dropout\n",
    "from tensorflow.keras.utils import to_categorical"
   ],
   "outputs": [],
   "execution_count": 1
  },
  {
   "metadata": {
    "ExecuteTime": {
     "end_time": "2025-10-02T01:07:22.778838Z",
     "start_time": "2025-10-02T01:07:22.768288Z"
    }
   },
   "cell_type": "code",
   "source": [
    "# 데이터 로드\n",
    "digits = datasets.load_digits()\n",
    "X = digits.data\n",
    "y = digits.target"
   ],
   "id": "20ab93e40040e35a",
   "outputs": [],
   "execution_count": 2
  },
  {
   "metadata": {
    "ExecuteTime": {
     "end_time": "2025-10-02T01:07:22.864562Z",
     "start_time": "2025-10-02T01:07:22.861496Z"
    }
   },
   "cell_type": "code",
   "source": [
    "# 데이터 정규화 & 원-핫 인코딩\n",
    "X = X / 16.0   # 픽셀값(0~16)을 0~1 범위로 스케일링\n",
    "y = to_categorical(y, num_classes=10)"
   ],
   "id": "e6a2006da5a5cf8f",
   "outputs": [],
   "execution_count": 3
  },
  {
   "metadata": {
    "ExecuteTime": {
     "end_time": "2025-10-02T01:07:22.877334Z",
     "start_time": "2025-10-02T01:07:22.873436Z"
    }
   },
   "cell_type": "code",
   "source": [
    "# 데이터 분리\n",
    "X_train, X_test, y_train, y_test = train_test_split(\n",
    "    X, y, test_size=0.3, random_state=42\n",
    ")"
   ],
   "id": "8a09a3957bc14787",
   "outputs": [],
   "execution_count": 4
  },
  {
   "metadata": {
    "ExecuteTime": {
     "end_time": "2025-10-02T01:07:27.064766Z",
     "start_time": "2025-10-02T01:07:26.625210Z"
    }
   },
   "cell_type": "code",
   "source": [
    "# 모델 정의\n",
    "model = Sequential([\n",
    "    Dense(128, activation='relu', input_shape=(64,)),   # 입력층: 8x8 = 64차원\n",
    "    Dropout(0.3),\n",
    "    Dense(64, activation='relu'),\n",
    "    Dropout(0.3),\n",
    "    Dense(10, activation='softmax')  # 출력층: 10 클래스\n",
    "])"
   ],
   "id": "84edb48772893acd",
   "outputs": [
    {
     "name": "stderr",
     "output_type": "stream",
     "text": [
      "/Users/khyu2/miniconda3/envs/study/lib/python3.10/site-packages/keras/src/layers/core/dense.py:87: UserWarning: Do not pass an `input_shape`/`input_dim` argument to a layer. When using Sequential models, prefer using an `Input(shape)` object as the first layer in the model instead.\n",
      "  super().__init__(activity_regularizer=activity_regularizer, **kwargs)\n",
      "2025-10-02 10:07:26.632009: I metal_plugin/src/device/metal_device.cc:1154] Metal device set to: Apple M3 Pro\n",
      "2025-10-02 10:07:26.632067: I metal_plugin/src/device/metal_device.cc:296] systemMemory: 18.00 GB\n",
      "2025-10-02 10:07:26.632073: I metal_plugin/src/device/metal_device.cc:313] maxCacheSize: 6.66 GB\n",
      "2025-10-02 10:07:26.632133: I tensorflow/core/common_runtime/pluggable_device/pluggable_device_factory.cc:305] Could not identify NUMA node of platform GPU ID 0, defaulting to 0. Your kernel may not have been built with NUMA support.\n",
      "2025-10-02 10:07:26.632147: I tensorflow/core/common_runtime/pluggable_device/pluggable_device_factory.cc:271] Created TensorFlow device (/job:localhost/replica:0/task:0/device:GPU:0 with 0 MB memory) -> physical PluggableDevice (device: 0, name: METAL, pci bus id: <undefined>)\n"
     ]
    }
   ],
   "execution_count": 5
  },
  {
   "metadata": {
    "ExecuteTime": {
     "end_time": "2025-10-02T01:07:33.847884Z",
     "start_time": "2025-10-02T01:07:33.799919Z"
    }
   },
   "cell_type": "code",
   "source": [
    "# 컴파일\n",
    "model.compile(optimizer='adam',\n",
    "              loss='categorical_crossentropy',\n",
    "              metrics=['accuracy'])"
   ],
   "id": "997182226f098b45",
   "outputs": [],
   "execution_count": 6
  },
  {
   "metadata": {
    "ExecuteTime": {
     "end_time": "2025-10-02T01:08:18.153521Z",
     "start_time": "2025-10-02T01:07:59.834519Z"
    }
   },
   "cell_type": "code",
   "source": [
    "# 학습\n",
    "history = model.fit(X_train, y_train,\n",
    "                    epochs=30,\n",
    "                    batch_size=32,\n",
    "                    validation_split=0.2,\n",
    "                    verbose=1)"
   ],
   "id": "21eda6a0c3040770",
   "outputs": [
    {
     "name": "stdout",
     "output_type": "stream",
     "text": [
      "Epoch 1/30\n",
      "\u001B[1m32/32\u001B[0m \u001B[32m━━━━━━━━━━━━━━━━━━━━\u001B[0m\u001B[37m\u001B[0m \u001B[1m1s\u001B[0m 20ms/step - accuracy: 0.9485 - loss: 0.1678 - val_accuracy: 0.9484 - val_loss: 0.2245\n",
      "Epoch 2/30\n",
      "\u001B[1m32/32\u001B[0m \u001B[32m━━━━━━━━━━━━━━━━━━━━\u001B[0m\u001B[37m\u001B[0m \u001B[1m1s\u001B[0m 18ms/step - accuracy: 0.9704 - loss: 0.1222 - val_accuracy: 0.9444 - val_loss: 0.2018\n",
      "Epoch 3/30\n",
      "\u001B[1m32/32\u001B[0m \u001B[32m━━━━━━━━━━━━━━━━━━━━\u001B[0m\u001B[37m\u001B[0m \u001B[1m1s\u001B[0m 17ms/step - accuracy: 0.9520 - loss: 0.1351 - val_accuracy: 0.9325 - val_loss: 0.2150\n",
      "Epoch 4/30\n",
      "\u001B[1m32/32\u001B[0m \u001B[32m━━━━━━━━━━━━━━━━━━━━\u001B[0m\u001B[37m\u001B[0m \u001B[1m1s\u001B[0m 17ms/step - accuracy: 0.9677 - loss: 0.0975 - val_accuracy: 0.9365 - val_loss: 0.2114\n",
      "Epoch 5/30\n",
      "\u001B[1m32/32\u001B[0m \u001B[32m━━━━━━━━━━━━━━━━━━━━\u001B[0m\u001B[37m\u001B[0m \u001B[1m1s\u001B[0m 17ms/step - accuracy: 0.9550 - loss: 0.1159 - val_accuracy: 0.9444 - val_loss: 0.1947\n",
      "Epoch 6/30\n",
      "\u001B[1m32/32\u001B[0m \u001B[32m━━━━━━━━━━━━━━━━━━━━\u001B[0m\u001B[37m\u001B[0m \u001B[1m1s\u001B[0m 19ms/step - accuracy: 0.9783 - loss: 0.0878 - val_accuracy: 0.9444 - val_loss: 0.2292\n",
      "Epoch 7/30\n",
      "\u001B[1m32/32\u001B[0m \u001B[32m━━━━━━━━━━━━━━━━━━━━\u001B[0m\u001B[37m\u001B[0m \u001B[1m1s\u001B[0m 19ms/step - accuracy: 0.9655 - loss: 0.1148 - val_accuracy: 0.9405 - val_loss: 0.1971\n",
      "Epoch 8/30\n",
      "\u001B[1m32/32\u001B[0m \u001B[32m━━━━━━━━━━━━━━━━━━━━\u001B[0m\u001B[37m\u001B[0m \u001B[1m1s\u001B[0m 20ms/step - accuracy: 0.9600 - loss: 0.1258 - val_accuracy: 0.9524 - val_loss: 0.1906\n",
      "Epoch 9/30\n",
      "\u001B[1m32/32\u001B[0m \u001B[32m━━━━━━━━━━━━━━━━━━━━\u001B[0m\u001B[37m\u001B[0m \u001B[1m1s\u001B[0m 20ms/step - accuracy: 0.9650 - loss: 0.1025 - val_accuracy: 0.9444 - val_loss: 0.1965\n",
      "Epoch 10/30\n",
      "\u001B[1m32/32\u001B[0m \u001B[32m━━━━━━━━━━━━━━━━━━━━\u001B[0m\u001B[37m\u001B[0m \u001B[1m1s\u001B[0m 20ms/step - accuracy: 0.9631 - loss: 0.1027 - val_accuracy: 0.9405 - val_loss: 0.2021\n",
      "Epoch 11/30\n",
      "\u001B[1m32/32\u001B[0m \u001B[32m━━━━━━━━━━━━━━━━━━━━\u001B[0m\u001B[37m\u001B[0m \u001B[1m1s\u001B[0m 19ms/step - accuracy: 0.9769 - loss: 0.0779 - val_accuracy: 0.9286 - val_loss: 0.2038\n",
      "Epoch 12/30\n",
      "\u001B[1m32/32\u001B[0m \u001B[32m━━━━━━━━━━━━━━━━━━━━\u001B[0m\u001B[37m\u001B[0m \u001B[1m1s\u001B[0m 19ms/step - accuracy: 0.9707 - loss: 0.0984 - val_accuracy: 0.9405 - val_loss: 0.2173\n",
      "Epoch 13/30\n",
      "\u001B[1m32/32\u001B[0m \u001B[32m━━━━━━━━━━━━━━━━━━━━\u001B[0m\u001B[37m\u001B[0m \u001B[1m1s\u001B[0m 18ms/step - accuracy: 0.9723 - loss: 0.0805 - val_accuracy: 0.9286 - val_loss: 0.2052\n",
      "Epoch 14/30\n",
      "\u001B[1m32/32\u001B[0m \u001B[32m━━━━━━━━━━━━━━━━━━━━\u001B[0m\u001B[37m\u001B[0m \u001B[1m1s\u001B[0m 19ms/step - accuracy: 0.9667 - loss: 0.1011 - val_accuracy: 0.9286 - val_loss: 0.2053\n",
      "Epoch 15/30\n",
      "\u001B[1m32/32\u001B[0m \u001B[32m━━━━━━━━━━━━━━━━━━━━\u001B[0m\u001B[37m\u001B[0m \u001B[1m1s\u001B[0m 19ms/step - accuracy: 0.9633 - loss: 0.1036 - val_accuracy: 0.9286 - val_loss: 0.2200\n",
      "Epoch 16/30\n",
      "\u001B[1m32/32\u001B[0m \u001B[32m━━━━━━━━━━━━━━━━━━━━\u001B[0m\u001B[37m\u001B[0m \u001B[1m1s\u001B[0m 19ms/step - accuracy: 0.9743 - loss: 0.0918 - val_accuracy: 0.9405 - val_loss: 0.2148\n",
      "Epoch 17/30\n",
      "\u001B[1m32/32\u001B[0m \u001B[32m━━━━━━━━━━━━━━━━━━━━\u001B[0m\u001B[37m\u001B[0m \u001B[1m1s\u001B[0m 18ms/step - accuracy: 0.9645 - loss: 0.1051 - val_accuracy: 0.9286 - val_loss: 0.2222\n",
      "Epoch 18/30\n",
      "\u001B[1m32/32\u001B[0m \u001B[32m━━━━━━━━━━━━━━━━━━━━\u001B[0m\u001B[37m\u001B[0m \u001B[1m1s\u001B[0m 19ms/step - accuracy: 0.9815 - loss: 0.0833 - val_accuracy: 0.9444 - val_loss: 0.2205\n",
      "Epoch 19/30\n",
      "\u001B[1m32/32\u001B[0m \u001B[32m━━━━━━━━━━━━━━━━━━━━\u001B[0m\u001B[37m\u001B[0m \u001B[1m1s\u001B[0m 19ms/step - accuracy: 0.9690 - loss: 0.0829 - val_accuracy: 0.9405 - val_loss: 0.2536\n",
      "Epoch 20/30\n",
      "\u001B[1m32/32\u001B[0m \u001B[32m━━━━━━━━━━━━━━━━━━━━\u001B[0m\u001B[37m\u001B[0m \u001B[1m1s\u001B[0m 18ms/step - accuracy: 0.9740 - loss: 0.0847 - val_accuracy: 0.9444 - val_loss: 0.2203\n",
      "Epoch 21/30\n",
      "\u001B[1m32/32\u001B[0m \u001B[32m━━━━━━━━━━━━━━━━━━━━\u001B[0m\u001B[37m\u001B[0m \u001B[1m1s\u001B[0m 18ms/step - accuracy: 0.9839 - loss: 0.0657 - val_accuracy: 0.9405 - val_loss: 0.2182\n",
      "Epoch 22/30\n",
      "\u001B[1m32/32\u001B[0m \u001B[32m━━━━━━━━━━━━━━━━━━━━\u001B[0m\u001B[37m\u001B[0m \u001B[1m1s\u001B[0m 19ms/step - accuracy: 0.9741 - loss: 0.0815 - val_accuracy: 0.9444 - val_loss: 0.2288\n",
      "Epoch 23/30\n",
      "\u001B[1m32/32\u001B[0m \u001B[32m━━━━━━━━━━━━━━━━━━━━\u001B[0m\u001B[37m\u001B[0m \u001B[1m1s\u001B[0m 19ms/step - accuracy: 0.9682 - loss: 0.0893 - val_accuracy: 0.9405 - val_loss: 0.2334\n",
      "Epoch 24/30\n",
      "\u001B[1m32/32\u001B[0m \u001B[32m━━━━━━━━━━━━━━━━━━━━\u001B[0m\u001B[37m\u001B[0m \u001B[1m1s\u001B[0m 19ms/step - accuracy: 0.9793 - loss: 0.0789 - val_accuracy: 0.9325 - val_loss: 0.2295\n",
      "Epoch 25/30\n",
      "\u001B[1m32/32\u001B[0m \u001B[32m━━━━━━━━━━━━━━━━━━━━\u001B[0m\u001B[37m\u001B[0m \u001B[1m1s\u001B[0m 18ms/step - accuracy: 0.9751 - loss: 0.0685 - val_accuracy: 0.9405 - val_loss: 0.2263\n",
      "Epoch 26/30\n",
      "\u001B[1m32/32\u001B[0m \u001B[32m━━━━━━━━━━━━━━━━━━━━\u001B[0m\u001B[37m\u001B[0m \u001B[1m1s\u001B[0m 19ms/step - accuracy: 0.9759 - loss: 0.0830 - val_accuracy: 0.9365 - val_loss: 0.2366\n",
      "Epoch 27/30\n",
      "\u001B[1m32/32\u001B[0m \u001B[32m━━━━━━━━━━━━━━━━━━━━\u001B[0m\u001B[37m\u001B[0m \u001B[1m1s\u001B[0m 19ms/step - accuracy: 0.9805 - loss: 0.0630 - val_accuracy: 0.9246 - val_loss: 0.2326\n",
      "Epoch 28/30\n",
      "\u001B[1m32/32\u001B[0m \u001B[32m━━━━━━━━━━━━━━━━━━━━\u001B[0m\u001B[37m\u001B[0m \u001B[1m1s\u001B[0m 19ms/step - accuracy: 0.9828 - loss: 0.0617 - val_accuracy: 0.9286 - val_loss: 0.2275\n",
      "Epoch 29/30\n",
      "\u001B[1m32/32\u001B[0m \u001B[32m━━━━━━━━━━━━━━━━━━━━\u001B[0m\u001B[37m\u001B[0m \u001B[1m1s\u001B[0m 19ms/step - accuracy: 0.9867 - loss: 0.0479 - val_accuracy: 0.9286 - val_loss: 0.2275\n",
      "Epoch 30/30\n",
      "\u001B[1m32/32\u001B[0m \u001B[32m━━━━━━━━━━━━━━━━━━━━\u001B[0m\u001B[37m\u001B[0m \u001B[1m1s\u001B[0m 18ms/step - accuracy: 0.9684 - loss: 0.0917 - val_accuracy: 0.9365 - val_loss: 0.2228\n"
     ]
    }
   ],
   "execution_count": 8
  },
  {
   "metadata": {
    "ExecuteTime": {
     "end_time": "2025-10-02T01:08:18.374094Z",
     "start_time": "2025-10-02T01:08:18.162234Z"
    }
   },
   "cell_type": "code",
   "source": [
    "# 평가\n",
    "loss, acc = model.evaluate(X_test, y_test, verbose=0)\n",
    "print(f\"테스트 정확도: {acc:.4f}\")"
   ],
   "id": "588b6b64ff1a0e6f",
   "outputs": [
    {
     "name": "stdout",
     "output_type": "stream",
     "text": [
      "테스트 정확도: 0.9556\n"
     ]
    }
   ],
   "execution_count": 9
  },
  {
   "metadata": {
    "ExecuteTime": {
     "end_time": "2025-10-02T01:08:18.544040Z",
     "start_time": "2025-10-02T01:08:18.445981Z"
    }
   },
   "cell_type": "code",
   "source": [
    "# 첫 번째 이미지 예측 확인\n",
    "plt.imshow(digits.images[0], cmap=plt.cm.gray_r, interpolation='nearest')\n",
    "plt.title(f\"실제 라벨: {digits.target[0]}\")\n",
    "plt.show()\n"
   ],
   "id": "c6de4a76a623450b",
   "outputs": [
    {
     "name": "stderr",
     "output_type": "stream",
     "text": [
      "/Users/khyu2/miniconda3/envs/study/lib/python3.10/site-packages/IPython/core/pylabtools.py:170: UserWarning: Glyph 49892 (\\N{HANGUL SYLLABLE SIL}) missing from font(s) DejaVu Sans.\n",
      "  fig.canvas.print_figure(bytes_io, **kw)\n",
      "/Users/khyu2/miniconda3/envs/study/lib/python3.10/site-packages/IPython/core/pylabtools.py:170: UserWarning: Glyph 51228 (\\N{HANGUL SYLLABLE JE}) missing from font(s) DejaVu Sans.\n",
      "  fig.canvas.print_figure(bytes_io, **kw)\n",
      "/Users/khyu2/miniconda3/envs/study/lib/python3.10/site-packages/IPython/core/pylabtools.py:170: UserWarning: Glyph 46972 (\\N{HANGUL SYLLABLE RA}) missing from font(s) DejaVu Sans.\n",
      "  fig.canvas.print_figure(bytes_io, **kw)\n",
      "/Users/khyu2/miniconda3/envs/study/lib/python3.10/site-packages/IPython/core/pylabtools.py:170: UserWarning: Glyph 48296 (\\N{HANGUL SYLLABLE BEL}) missing from font(s) DejaVu Sans.\n",
      "  fig.canvas.print_figure(bytes_io, **kw)\n"
     ]
    },
    {
     "data": {
      "text/plain": [
       "<Figure size 640x480 with 1 Axes>"
      ],
      "image/png": "[encoded data removed]"
     },
     "metadata": {},
     "output_type": "display_data"
    }
   ],
   "execution_count": 10
  },
  {
   "metadata": {
    "ExecuteTime": {
     "end_time": "2025-10-02T01:08:19.129957Z",
     "start_time": "2025-10-02T01:08:18.611162Z"
    }
   },
   "cell_type": "code",
   "source": [
    "pred = model.predict(X[0].reshape(1, -1))\n",
    "print(\"예측 결과:\", pred.argmax())"
   ],
   "id": "fb7cca6c71af517d",
   "outputs": [
    {
     "name": "stdout",
     "output_type": "stream",
     "text": [
      "\u001B[1m1/1\u001B[0m \u001B[32m━━━━━━━━━━━━━━━━━━━━\u001B[0m\u001B[37m\u001B[0m \u001B[1m0s\u001B[0m 494ms/step\n",
      "예측 결과: 0\n"
     ]
    }
   ],
   "execution_count": 11
  },
  {
   "metadata": {},
   "cell_type": "code",
   "outputs": [],
   "execution_count": null,
   "source": "",
   "id": "d696d6694f2ca2fb"
  }
 ],
 "metadata": {
  "kernelspec": {
   "display_name": "Python 3",
   "language": "python",
   "name": "python3"
  },
  "language_info": {
   "codemirror_mode": {
    "name": "ipython",
    "version": 2
   },
   "file_extension": ".py",
   "mimetype": "text/x-python",
   "name": "python",
   "nbconvert_exporter": "python",
   "pygments_lexer": "ipython2",
   "version": "2.7.6"
  }
 },
 "nbformat": 4,
 "nbformat_minor": 5
}
